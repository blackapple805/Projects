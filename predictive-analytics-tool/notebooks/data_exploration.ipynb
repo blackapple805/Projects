{
 "cells": [
  {
   "cell_type": "code",
   "execution_count": 26,
   "metadata": {},
   "outputs": [],
   "source": [
    "import sys\n",
    "import os"
   ]
  },
  {
   "cell_type": "code",
   "execution_count": 27,
   "metadata": {},
   "outputs": [],
   "source": [
    "# Add the root directory of the project to the Python path\n",
    "sys.path.append(os.path.abspath(os.path.join(os.getcwd(), '..')))"
   ]
  },
  {
   "cell_type": "code",
   "execution_count": 28,
   "metadata": {},
   "outputs": [],
   "source": [
    "import pandas as pd\n",
    "from src.data_processing import load_data, clean_data, process_data"
   ]
  },
  {
   "cell_type": "code",
   "execution_count": 29,
   "metadata": {},
   "outputs": [
    {
     "name": "stdout",
     "output_type": "stream",
     "text": [
      "Loaded Data:\n",
      "     feature1   feature2   feature3   feature4     target\n",
      "0   12.483571   5.846293  35.366810  23.420100  10.139309\n",
      "1    9.308678  15.793547  38.411768  28.796379  35.015624\n",
      "2   13.238443  16.572855  46.245769  54.945872  50.131092\n",
      "3   17.615149  11.977227  45.807031  52.207405  51.174515\n",
      "4    8.829233  18.387143   9.334959  39.581968  38.748363\n",
      "..        ...        ...        ...        ...        ...\n",
      "95   2.682425  23.853174  19.606356  30.616487  63.472751\n",
      "96  11.480601  11.161426  43.493998   5.737309  24.068846\n",
      "97  11.305276  21.537251  34.609493  67.077447  45.241533\n",
      "98  10.025567  20.582087  42.192932  37.709203  28.109544\n",
      "99   8.827064   8.570297  39.444433  64.756326  15.430007\n",
      "\n",
      "[100 rows x 5 columns]\n"
     ]
    }
   ],
   "source": [
    "# Load data\n",
    "df = load_data('/workspaces/Projects/predictive-analytics-tool/data/raw/sample_data.csv')\n",
    "print(\"Loaded Data:\")\n",
    "print(df)"
   ]
  },
  {
   "cell_type": "code",
   "execution_count": 30,
   "metadata": {},
   "outputs": [
    {
     "name": "stdout",
     "output_type": "stream",
     "text": [
      "Cleaned Data:\n",
      "     feature1   feature2   feature3   feature4     target\n",
      "0   12.483571   5.846293  35.366810  23.420100  10.139309\n",
      "1    9.308678  15.793547  38.411768  28.796379  35.015624\n",
      "2   13.238443  16.572855  46.245769  54.945872  50.131092\n",
      "3   17.615149  11.977227  45.807031  52.207405  51.174515\n",
      "4    8.829233  18.387143   9.334959  39.581968  38.748363\n",
      "..        ...        ...        ...        ...        ...\n",
      "95   2.682425  23.853174  19.606356  30.616487  63.472751\n",
      "96  11.480601  11.161426  43.493998   5.737309  24.068846\n",
      "97  11.305276  21.537251  34.609493  67.077447  45.241533\n",
      "98  10.025567  20.582087  42.192932  37.709203  28.109544\n",
      "99   8.827064   8.570297  39.444433  64.756326  15.430007\n",
      "\n",
      "[100 rows x 5 columns]\n"
     ]
    }
   ],
   "source": [
    "df_clean = clean_data(df)\n",
    "print(\"Cleaned Data:\")\n",
    "print(df_clean)"
   ]
  },
  {
   "cell_type": "code",
   "execution_count": 31,
   "metadata": {},
   "outputs": [
    {
     "name": "stdout",
     "output_type": "stream",
     "text": [
      "Processed Data:\n",
      "     feature1   feature2   feature3   feature4     target\n",
      "0   12.483571   5.846293  35.366810  23.420100  10.139309\n",
      "1    9.308678  15.793547  38.411768  28.796379  35.015624\n",
      "2   13.238443  16.572855  46.245769  54.945872  50.131092\n",
      "3   17.615149  11.977227  45.807031  52.207405  51.174515\n",
      "4    8.829233  18.387143   9.334959  39.581968  38.748363\n",
      "..        ...        ...        ...        ...        ...\n",
      "95   2.682425  23.853174  19.606356  30.616487  63.472751\n",
      "96  11.480601  11.161426  43.493998   5.737309  24.068846\n",
      "97  11.305276  21.537251  34.609493  67.077447  45.241533\n",
      "98  10.025567  20.582087  42.192932  37.709203  28.109544\n",
      "99   8.827064   8.570297  39.444433  64.756326  15.430007\n",
      "\n",
      "[100 rows x 5 columns]\n"
     ]
    }
   ],
   "source": [
    "df_processed = process_data(df_clean)\n",
    "print(\"Processed Data:\")\n",
    "print(df_processed)"
   ]
  }
 ],
 "metadata": {
  "kernelspec": {
   "display_name": "Python 3",
   "language": "python",
   "name": "python3"
  },
  "language_info": {
   "codemirror_mode": {
    "name": "ipython",
    "version": 3
   },
   "file_extension": ".py",
   "mimetype": "text/x-python",
   "name": "python",
   "nbconvert_exporter": "python",
   "pygments_lexer": "ipython3",
   "version": "3.10.13"
  }
 },
 "nbformat": 4,
 "nbformat_minor": 2
}
