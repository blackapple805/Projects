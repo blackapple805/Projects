{
 "cells": [
  {
   "cell_type": "code",
   "execution_count": 1,
   "id": "583bcfba-0401-4fdb-93d5-57e1c2461381",
   "metadata": {},
   "outputs": [
    {
     "name": "stdout",
     "output_type": "stream",
     "text": [
      "Requirement already satisfied: firebase-admin in /usr/local/python/3.10.13/lib/python3.10/site-packages (6.4.0)\n",
      "Requirement already satisfied: cachecontrol>=0.12.6 in /usr/local/python/3.10.13/lib/python3.10/site-packages (from firebase-admin) (0.14.0)\n",
      "Requirement already satisfied: google-api-python-client>=1.7.8 in /usr/local/python/3.10.13/lib/python3.10/site-packages (from firebase-admin) (2.120.0)\n",
      "Requirement already satisfied: google-cloud-storage>=1.37.1 in /usr/local/python/3.10.13/lib/python3.10/site-packages (from firebase-admin) (2.14.0)\n",
      "Requirement already satisfied: pyjwt>=2.5.0 in /usr/local/python/3.10.13/lib/python3.10/site-packages (from pyjwt[crypto]>=2.5.0->firebase-admin) (2.8.0)\n",
      "Requirement already satisfied: google-api-core<3.0.0dev,>=1.22.1 in /usr/local/python/3.10.13/lib/python3.10/site-packages (from google-api-core[grpc]<3.0.0dev,>=1.22.1; platform_python_implementation != \"PyPy\"->firebase-admin) (2.17.1)\n",
      "Requirement already satisfied: google-cloud-firestore>=2.9.1 in /usr/local/python/3.10.13/lib/python3.10/site-packages (from firebase-admin) (2.15.0)\n",
      "Requirement already satisfied: requests>=2.16.0 in /home/codespace/.local/lib/python3.10/site-packages (from cachecontrol>=0.12.6->firebase-admin) (2.31.0)\n",
      "Requirement already satisfied: msgpack<2.0.0,>=0.5.2 in /usr/local/python/3.10.13/lib/python3.10/site-packages (from cachecontrol>=0.12.6->firebase-admin) (1.0.7)\n",
      "Requirement already satisfied: googleapis-common-protos<2.0.dev0,>=1.56.2 in /usr/local/python/3.10.13/lib/python3.10/site-packages (from google-api-core<3.0.0dev,>=1.22.1->google-api-core[grpc]<3.0.0dev,>=1.22.1; platform_python_implementation != \"PyPy\"->firebase-admin) (1.62.0)\n",
      "Requirement already satisfied: protobuf!=3.20.0,!=3.20.1,!=4.21.0,!=4.21.1,!=4.21.2,!=4.21.3,!=4.21.4,!=4.21.5,<5.0.0.dev0,>=3.19.5 in /usr/local/python/3.10.13/lib/python3.10/site-packages (from google-api-core<3.0.0dev,>=1.22.1->google-api-core[grpc]<3.0.0dev,>=1.22.1; platform_python_implementation != \"PyPy\"->firebase-admin) (4.25.3)\n",
      "Requirement already satisfied: google-auth<3.0.dev0,>=2.14.1 in /usr/local/python/3.10.13/lib/python3.10/site-packages (from google-api-core<3.0.0dev,>=1.22.1->google-api-core[grpc]<3.0.0dev,>=1.22.1; platform_python_implementation != \"PyPy\"->firebase-admin) (2.28.1)\n",
      "Requirement already satisfied: grpcio<2.0dev,>=1.33.2 in /usr/local/python/3.10.13/lib/python3.10/site-packages (from google-api-core[grpc]<3.0.0dev,>=1.22.1; platform_python_implementation != \"PyPy\"->firebase-admin) (1.62.0)\n",
      "Requirement already satisfied: grpcio-status<2.0.dev0,>=1.33.2 in /usr/local/python/3.10.13/lib/python3.10/site-packages (from google-api-core[grpc]<3.0.0dev,>=1.22.1; platform_python_implementation != \"PyPy\"->firebase-admin) (1.62.0)\n",
      "Requirement already satisfied: httplib2<1.dev0,>=0.15.0 in /usr/local/python/3.10.13/lib/python3.10/site-packages (from google-api-python-client>=1.7.8->firebase-admin) (0.22.0)\n",
      "Requirement already satisfied: google-auth-httplib2>=0.1.0 in /usr/local/python/3.10.13/lib/python3.10/site-packages (from google-api-python-client>=1.7.8->firebase-admin) (0.2.0)\n",
      "Requirement already satisfied: uritemplate<5,>=3.0.1 in /usr/local/python/3.10.13/lib/python3.10/site-packages (from google-api-python-client>=1.7.8->firebase-admin) (4.1.1)\n",
      "Requirement already satisfied: google-cloud-core<3.0.0dev,>=1.4.1 in /usr/local/python/3.10.13/lib/python3.10/site-packages (from google-cloud-firestore>=2.9.1->firebase-admin) (2.4.1)\n",
      "Requirement already satisfied: proto-plus<2.0.0dev,>=1.22.0 in /usr/local/python/3.10.13/lib/python3.10/site-packages (from google-cloud-firestore>=2.9.1->firebase-admin) (1.23.0)\n",
      "Requirement already satisfied: google-resumable-media>=2.6.0 in /usr/local/python/3.10.13/lib/python3.10/site-packages (from google-cloud-storage>=1.37.1->firebase-admin) (2.7.0)\n",
      "Requirement already satisfied: google-crc32c<2.0dev,>=1.0 in /usr/local/python/3.10.13/lib/python3.10/site-packages (from google-cloud-storage>=1.37.1->firebase-admin) (1.5.0)\n",
      "Requirement already satisfied: cryptography>=3.4.0 in /usr/local/python/3.10.13/lib/python3.10/site-packages (from pyjwt[crypto]>=2.5.0->firebase-admin) (42.0.5)\n",
      "Requirement already satisfied: cffi>=1.12 in /home/codespace/.local/lib/python3.10/site-packages (from cryptography>=3.4.0->pyjwt[crypto]>=2.5.0->firebase-admin) (1.16.0)\n",
      "Requirement already satisfied: cachetools<6.0,>=2.0.0 in /usr/local/python/3.10.13/lib/python3.10/site-packages (from google-auth<3.0.dev0,>=2.14.1->google-api-core<3.0.0dev,>=1.22.1->google-api-core[grpc]<3.0.0dev,>=1.22.1; platform_python_implementation != \"PyPy\"->firebase-admin) (5.3.3)\n",
      "Requirement already satisfied: pyasn1-modules>=0.2.1 in /usr/local/python/3.10.13/lib/python3.10/site-packages (from google-auth<3.0.dev0,>=2.14.1->google-api-core<3.0.0dev,>=1.22.1->google-api-core[grpc]<3.0.0dev,>=1.22.1; platform_python_implementation != \"PyPy\"->firebase-admin) (0.3.0)\n",
      "Requirement already satisfied: rsa<5,>=3.1.4 in /usr/local/python/3.10.13/lib/python3.10/site-packages (from google-auth<3.0.dev0,>=2.14.1->google-api-core<3.0.0dev,>=1.22.1->google-api-core[grpc]<3.0.0dev,>=1.22.1; platform_python_implementation != \"PyPy\"->firebase-admin) (4.9)\n",
      "Requirement already satisfied: pyparsing!=3.0.0,!=3.0.1,!=3.0.2,!=3.0.3,<4,>=2.4.2 in /home/codespace/.local/lib/python3.10/site-packages (from httplib2<1.dev0,>=0.15.0->google-api-python-client>=1.7.8->firebase-admin) (3.1.1)\n",
      "Requirement already satisfied: charset-normalizer<4,>=2 in /home/codespace/.local/lib/python3.10/site-packages (from requests>=2.16.0->cachecontrol>=0.12.6->firebase-admin) (3.3.2)\n",
      "Requirement already satisfied: idna<4,>=2.5 in /home/codespace/.local/lib/python3.10/site-packages (from requests>=2.16.0->cachecontrol>=0.12.6->firebase-admin) (3.6)\n",
      "Requirement already satisfied: urllib3<3,>=1.21.1 in /usr/local/python/3.10.13/lib/python3.10/site-packages (from requests>=2.16.0->cachecontrol>=0.12.6->firebase-admin) (2.0.7)\n",
      "Requirement already satisfied: certifi>=2017.4.17 in /home/codespace/.local/lib/python3.10/site-packages (from requests>=2.16.0->cachecontrol>=0.12.6->firebase-admin) (2024.2.2)\n",
      "Requirement already satisfied: pycparser in /home/codespace/.local/lib/python3.10/site-packages (from cffi>=1.12->cryptography>=3.4.0->pyjwt[crypto]>=2.5.0->firebase-admin) (2.21)\n",
      "Requirement already satisfied: pyasn1<0.6.0,>=0.4.6 in /usr/local/python/3.10.13/lib/python3.10/site-packages (from pyasn1-modules>=0.2.1->google-auth<3.0.dev0,>=2.14.1->google-api-core<3.0.0dev,>=1.22.1->google-api-core[grpc]<3.0.0dev,>=1.22.1; platform_python_implementation != \"PyPy\"->firebase-admin) (0.5.1)\n"
     ]
    }
   ],
   "source": [
    "!pip install firebase-admin"
   ]
  },
  {
   "cell_type": "code",
   "execution_count": 5,
   "id": "4cac9577-b571-4acc-802f-dcd7db14d0c4",
   "metadata": {},
   "outputs": [
    {
     "name": "stdout",
     "output_type": "stream",
     "text": [
      "Requirement already satisfied: pyarrow in /usr/local/python/3.10.13/lib/python3.10/site-packages (15.0.0)\n",
      "Requirement already satisfied: numpy<2,>=1.16.6 in /home/codespace/.local/lib/python3.10/site-packages (from pyarrow) (1.26.4)\n",
      "initialized\n"
     ]
    }
   ],
   "source": [
    "!pip install pyarrow\n",
    "import pandas as pd\n",
    "import numpy as np \n",
    "from numpy.random import choice, randint\n",
    "import matplotlib.pyplot as plt\n",
    "\n",
    "import firebase_admin\n",
    "from firebase_admin import credentials, firestore\n",
    "\n",
    "cred = credentials.Certificate('/workspaces/Projects/mlpythontofirebase/sidequest-fd22f-firebase-adminsdk-3g1od-ab05213923.json')\n",
    "db = firestore.client()\n",
    "\n",
    "print('initialized')"
   ]
  },
  {
   "cell_type": "code",
   "execution_count": 6,
   "id": "e5b9bbab-9a61-47d7-a573-e4117c5df10b",
   "metadata": {},
   "outputs": [],
   "source": [
    "devs = db.collection('developers')"
   ]
  },
  {
   "cell_type": "code",
   "execution_count": 7,
   "id": "86d9beb4-b706-49bb-9967-04d32dcd25e2",
   "metadata": {},
   "outputs": [],
   "source": [
    "languages = {\n",
    "    u'python':50,\n",
    "    u'rust':25,\n",
    "    u'typescript':10,\n",
    "    u'jave':0,\n",
    "    u'coffeescript':-10,\n",
    "    u'elm':-2,\n",
    "    u'cobol':-50,\n",
    "    u'c++':20,\n",
    "    u'c#':10,\n",
    "}\n",
    "\n",
    "for i in range(0, 200):\n",
    "    dev = {\n",
    "        'firebase': randint(0, 2),\n",
    "        'language': choice(list(languages.keys())),\n",
    "        'age': randint(10, 99)\n",
    "    }\n",
    "\n",
    "    r = randint(-25, 25)\n",
    "    dev['Happiness'] = r + languages[dev['language']] + (25 if dev['firebase'] else -25)\n",
    "\n",
    "    devs.add(dev)\n"
   ]
  },
  {
   "cell_type": "code",
   "execution_count": 8,
   "id": "3320f55e-b82f-4b46-9faa-bc1a18ff63b6",
   "metadata": {},
   "outputs": [],
   "source": [
    "docs = devs.get()\n",
    "data = []\n",
    "for doc in docs:\n",
    "    data.append(doc.to_dict())\n",
    "    df = pd.DataFrame(data)\n",
    "    \n",
    "df.to_csv('data.csv', index=False)\n"
   ]
  },
  {
   "cell_type": "code",
   "execution_count": 9,
   "id": "f645fd19-7a9e-4b6d-8f39-6e79ef233789",
   "metadata": {},
   "outputs": [
    {
     "data": {
      "text/html": [
       "<div>\n",
       "<style scoped>\n",
       "    .dataframe tbody tr th:only-of-type {\n",
       "        vertical-align: middle;\n",
       "    }\n",
       "\n",
       "    .dataframe tbody tr th {\n",
       "        vertical-align: top;\n",
       "    }\n",
       "\n",
       "    .dataframe thead th {\n",
       "        text-align: right;\n",
       "    }\n",
       "</style>\n",
       "<table border=\"1\" class=\"dataframe\">\n",
       "  <thead>\n",
       "    <tr style=\"text-align: right;\">\n",
       "      <th></th>\n",
       "      <th>language</th>\n",
       "      <th>age</th>\n",
       "      <th>Happiness</th>\n",
       "      <th>firebase</th>\n",
       "    </tr>\n",
       "  </thead>\n",
       "  <tbody>\n",
       "    <tr>\n",
       "      <th>47</th>\n",
       "      <td>coffeescript</td>\n",
       "      <td>14</td>\n",
       "      <td>-28</td>\n",
       "      <td>0</td>\n",
       "    </tr>\n",
       "    <tr>\n",
       "      <th>74</th>\n",
       "      <td>jave</td>\n",
       "      <td>19</td>\n",
       "      <td>-24</td>\n",
       "      <td>0</td>\n",
       "    </tr>\n",
       "    <tr>\n",
       "      <th>123</th>\n",
       "      <td>typescript</td>\n",
       "      <td>51</td>\n",
       "      <td>52</td>\n",
       "      <td>1</td>\n",
       "    </tr>\n",
       "    <tr>\n",
       "      <th>198</th>\n",
       "      <td>c#</td>\n",
       "      <td>16</td>\n",
       "      <td>21</td>\n",
       "      <td>1</td>\n",
       "    </tr>\n",
       "    <tr>\n",
       "      <th>180</th>\n",
       "      <td>rust</td>\n",
       "      <td>38</td>\n",
       "      <td>-4</td>\n",
       "      <td>0</td>\n",
       "    </tr>\n",
       "    <tr>\n",
       "      <th>38</th>\n",
       "      <td>cobol</td>\n",
       "      <td>54</td>\n",
       "      <td>-77</td>\n",
       "      <td>0</td>\n",
       "    </tr>\n",
       "    <tr>\n",
       "      <th>97</th>\n",
       "      <td>python</td>\n",
       "      <td>54</td>\n",
       "      <td>93</td>\n",
       "      <td>1</td>\n",
       "    </tr>\n",
       "    <tr>\n",
       "      <th>93</th>\n",
       "      <td>coffeescript</td>\n",
       "      <td>12</td>\n",
       "      <td>-50</td>\n",
       "      <td>0</td>\n",
       "    </tr>\n",
       "    <tr>\n",
       "      <th>137</th>\n",
       "      <td>cobol</td>\n",
       "      <td>66</td>\n",
       "      <td>-16</td>\n",
       "      <td>1</td>\n",
       "    </tr>\n",
       "    <tr>\n",
       "      <th>40</th>\n",
       "      <td>c#</td>\n",
       "      <td>85</td>\n",
       "      <td>-9</td>\n",
       "      <td>0</td>\n",
       "    </tr>\n",
       "  </tbody>\n",
       "</table>\n",
       "</div>"
      ],
      "text/plain": [
       "         language  age  Happiness  firebase\n",
       "47   coffeescript   14        -28         0\n",
       "74           jave   19        -24         0\n",
       "123    typescript   51         52         1\n",
       "198            c#   16         21         1\n",
       "180          rust   38         -4         0\n",
       "38          cobol   54        -77         0\n",
       "97         python   54         93         1\n",
       "93   coffeescript   12        -50         0\n",
       "137         cobol   66        -16         1\n",
       "40             c#   85         -9         0"
      ]
     },
     "execution_count": 9,
     "metadata": {},
     "output_type": "execute_result"
    }
   ],
   "source": [
    "df = pd.read_csv('data.csv')\n",
    "df.sample(10)"
   ]
  },
  {
   "cell_type": "code",
   "execution_count": 10,
   "id": "497cb330-b307-4185-ba05-d16f6125fc8d",
   "metadata": {},
   "outputs": [
    {
     "data": {
      "text/plain": [
       "<Axes: ylabel='Frequency'>"
      ]
     },
     "execution_count": 10,
     "metadata": {},
     "output_type": "execute_result"
    },
    {
     "data": {
      "image/png": "[encoded data removed]",
      "text/plain": [
       "<Figure size 640x480 with 1 Axes>"
      ]
     },
     "metadata": {},
     "output_type": "display_data"
    }
   ],
   "source": [
    "df['Happiness'].plot.hist()"
   ]
  },
  {
   "cell_type": "code",
   "execution_count": 11,
   "id": "e08a8f77-c6b7-473f-95a0-d685849ceb02",
   "metadata": {},
   "outputs": [
    {
     "data": {
      "text/html": [
       "<div>\n",
       "<style scoped>\n",
       "    .dataframe tbody tr th:only-of-type {\n",
       "        vertical-align: middle;\n",
       "    }\n",
       "\n",
       "    .dataframe tbody tr th {\n",
       "        vertical-align: top;\n",
       "    }\n",
       "\n",
       "    .dataframe thead th {\n",
       "        text-align: right;\n",
       "    }\n",
       "</style>\n",
       "<table border=\"1\" class=\"dataframe\">\n",
       "  <thead>\n",
       "    <tr style=\"text-align: right;\">\n",
       "      <th></th>\n",
       "      <th>age</th>\n",
       "      <th>Happiness</th>\n",
       "      <th>firebase</th>\n",
       "    </tr>\n",
       "  </thead>\n",
       "  <tbody>\n",
       "    <tr>\n",
       "      <th>count</th>\n",
       "      <td>200.000000</td>\n",
       "      <td>200.000000</td>\n",
       "      <td>200.000000</td>\n",
       "    </tr>\n",
       "    <tr>\n",
       "      <th>mean</th>\n",
       "      <td>51.480000</td>\n",
       "      <td>1.325000</td>\n",
       "      <td>0.450000</td>\n",
       "    </tr>\n",
       "    <tr>\n",
       "      <th>std</th>\n",
       "      <td>25.015967</td>\n",
       "      <td>41.802592</td>\n",
       "      <td>0.498742</td>\n",
       "    </tr>\n",
       "    <tr>\n",
       "      <th>min</th>\n",
       "      <td>10.000000</td>\n",
       "      <td>-99.000000</td>\n",
       "      <td>0.000000</td>\n",
       "    </tr>\n",
       "    <tr>\n",
       "      <th>25%</th>\n",
       "      <td>30.000000</td>\n",
       "      <td>-28.000000</td>\n",
       "      <td>0.000000</td>\n",
       "    </tr>\n",
       "    <tr>\n",
       "      <th>50%</th>\n",
       "      <td>52.000000</td>\n",
       "      <td>-1.000000</td>\n",
       "      <td>0.000000</td>\n",
       "    </tr>\n",
       "    <tr>\n",
       "      <th>75%</th>\n",
       "      <td>71.000000</td>\n",
       "      <td>31.000000</td>\n",
       "      <td>1.000000</td>\n",
       "    </tr>\n",
       "    <tr>\n",
       "      <th>max</th>\n",
       "      <td>97.000000</td>\n",
       "      <td>93.000000</td>\n",
       "      <td>1.000000</td>\n",
       "    </tr>\n",
       "  </tbody>\n",
       "</table>\n",
       "</div>"
      ],
      "text/plain": [
       "              age   Happiness    firebase\n",
       "count  200.000000  200.000000  200.000000\n",
       "mean    51.480000    1.325000    0.450000\n",
       "std     25.015967   41.802592    0.498742\n",
       "min     10.000000  -99.000000    0.000000\n",
       "25%     30.000000  -28.000000    0.000000\n",
       "50%     52.000000   -1.000000    0.000000\n",
       "75%     71.000000   31.000000    1.000000\n",
       "max     97.000000   93.000000    1.000000"
      ]
     },
     "execution_count": 11,
     "metadata": {},
     "output_type": "execute_result"
    }
   ],
   "source": [
    "df.describe()"
   ]
  },
  {
   "cell_type": "code",
   "execution_count": 12,
   "id": "df6bf611-e071-412e-904d-79640fc4eb50",
   "metadata": {},
   "outputs": [
    {
     "data": {
      "text/plain": [
       "array(['c#', 'c++', 'cobol', 'coffeescript', 'elm', 'jave', 'python',\n",
       "       'rust', 'typescript'], dtype=object)"
      ]
     },
     "execution_count": 12,
     "metadata": {},
     "output_type": "execute_result"
    }
   ],
   "source": [
    "from sklearn.model_selection import train_test_split\n",
    "from sklearn.preprocessing import LabelEncoder\n",
    "\n",
    "le = LabelEncoder()\n",
    "df['language'] = le.fit_transform(df['language'])\n",
    "le.classes_"
   ]
  },
  {
   "cell_type": "code",
   "execution_count": 13,
   "id": "5a5e0b3f-f17f-4ab3-ac9b-4de82d1939a9",
   "metadata": {},
   "outputs": [
    {
     "data": {
      "text/html": [
       "<div>\n",
       "<style scoped>\n",
       "    .dataframe tbody tr th:only-of-type {\n",
       "        vertical-align: middle;\n",
       "    }\n",
       "\n",
       "    .dataframe tbody tr th {\n",
       "        vertical-align: top;\n",
       "    }\n",
       "\n",
       "    .dataframe thead th {\n",
       "        text-align: right;\n",
       "    }\n",
       "</style>\n",
       "<table border=\"1\" class=\"dataframe\">\n",
       "  <thead>\n",
       "    <tr style=\"text-align: right;\">\n",
       "      <th></th>\n",
       "      <th>language</th>\n",
       "      <th>age</th>\n",
       "      <th>Happiness</th>\n",
       "      <th>firebase</th>\n",
       "    </tr>\n",
       "  </thead>\n",
       "  <tbody>\n",
       "    <tr>\n",
       "      <th>142</th>\n",
       "      <td>0</td>\n",
       "      <td>30</td>\n",
       "      <td>23</td>\n",
       "      <td>1</td>\n",
       "    </tr>\n",
       "    <tr>\n",
       "      <th>100</th>\n",
       "      <td>3</td>\n",
       "      <td>55</td>\n",
       "      <td>23</td>\n",
       "      <td>1</td>\n",
       "    </tr>\n",
       "    <tr>\n",
       "      <th>39</th>\n",
       "      <td>7</td>\n",
       "      <td>36</td>\n",
       "      <td>4</td>\n",
       "      <td>0</td>\n",
       "    </tr>\n",
       "    <tr>\n",
       "      <th>198</th>\n",
       "      <td>0</td>\n",
       "      <td>16</td>\n",
       "      <td>21</td>\n",
       "      <td>1</td>\n",
       "    </tr>\n",
       "    <tr>\n",
       "      <th>110</th>\n",
       "      <td>6</td>\n",
       "      <td>14</td>\n",
       "      <td>71</td>\n",
       "      <td>1</td>\n",
       "    </tr>\n",
       "  </tbody>\n",
       "</table>\n",
       "</div>"
      ],
      "text/plain": [
       "     language  age  Happiness  firebase\n",
       "142         0   30         23         1\n",
       "100         3   55         23         1\n",
       "39          7   36          4         0\n",
       "198         0   16         21         1\n",
       "110         6   14         71         1"
      ]
     },
     "execution_count": 13,
     "metadata": {},
     "output_type": "execute_result"
    }
   ],
   "source": [
    "df.sample(5)"
   ]
  },
  {
   "cell_type": "code",
   "execution_count": 15,
   "id": "43e8bd34-6f82-4223-add5-c885830a9973",
   "metadata": {},
   "outputs": [
    {
     "data": {
      "text/html": [
       "<div>\n",
       "<style scoped>\n",
       "    .dataframe tbody tr th:only-of-type {\n",
       "        vertical-align: middle;\n",
       "    }\n",
       "\n",
       "    .dataframe tbody tr th {\n",
       "        vertical-align: top;\n",
       "    }\n",
       "\n",
       "    .dataframe thead th {\n",
       "        text-align: right;\n",
       "    }\n",
       "</style>\n",
       "<table border=\"1\" class=\"dataframe\">\n",
       "  <thead>\n",
       "    <tr style=\"text-align: right;\">\n",
       "      <th></th>\n",
       "      <th>language</th>\n",
       "      <th>age</th>\n",
       "      <th>firebase</th>\n",
       "    </tr>\n",
       "  </thead>\n",
       "  <tbody>\n",
       "    <tr>\n",
       "      <th>67</th>\n",
       "      <td>3</td>\n",
       "      <td>11</td>\n",
       "      <td>1</td>\n",
       "    </tr>\n",
       "    <tr>\n",
       "      <th>127</th>\n",
       "      <td>7</td>\n",
       "      <td>25</td>\n",
       "      <td>0</td>\n",
       "    </tr>\n",
       "    <tr>\n",
       "      <th>45</th>\n",
       "      <td>6</td>\n",
       "      <td>75</td>\n",
       "      <td>0</td>\n",
       "    </tr>\n",
       "    <tr>\n",
       "      <th>59</th>\n",
       "      <td>3</td>\n",
       "      <td>31</td>\n",
       "      <td>0</td>\n",
       "    </tr>\n",
       "    <tr>\n",
       "      <th>181</th>\n",
       "      <td>5</td>\n",
       "      <td>10</td>\n",
       "      <td>0</td>\n",
       "    </tr>\n",
       "  </tbody>\n",
       "</table>\n",
       "</div>"
      ],
      "text/plain": [
       "     language  age  firebase\n",
       "67          3   11         1\n",
       "127         7   25         0\n",
       "45          6   75         0\n",
       "59          3   31         0\n",
       "181         5   10         0"
      ]
     },
     "execution_count": 15,
     "metadata": {},
     "output_type": "execute_result"
    }
   ],
   "source": [
    "x = df.drop(labels='Happiness', axis=1)\n",
    "y = df['Happiness']\n",
    "\n",
    "X_train, X_test, y_train, y_test = train_test_split(x, y, test_size=0.33, random_state=23)\n",
    "\n",
    "X_train.head()"
   ]
  },
  {
   "cell_type": "code",
   "execution_count": 16,
   "id": "d022ee6e-ea96-4786-ae3b-41dffef39918",
   "metadata": {},
   "outputs": [
    {
     "name": "stdout",
     "output_type": "stream",
     "text": [
      "Model Mean Absolute Error MAE 13.652218124354752\n"
     ]
    }
   ],
   "source": [
    "from sklearn.ensemble import RandomForestRegressor\n",
    "from sklearn.metrics import mean_absolute_error\n",
    "\n",
    "model = RandomForestRegressor(max_depth=3, random_state=23, n_estimators=500)\n",
    "model.fit(X_train, y_train)\n",
    "\n",
    "preds = model.predict(X_test)\n",
    "\n",
    "print(\"Model Mean Absolute Error MAE {}\".format(mean_absolute_error(y_test, preds)))\n"
   ]
  },
  {
   "cell_type": "code",
   "execution_count": 17,
   "id": "d49b972a-d020-474b-8834-e2aa868a3dae",
   "metadata": {},
   "outputs": [
    {
     "name": "stdout",
     "output_type": "stream",
     "text": [
      "Random Predictions MAE 55.57575757575758\n"
     ]
    }
   ],
   "source": [
    "randos = randint(-100, high=100, size=len(y_test))\n",
    "print(\"Random Predictions MAE {}\".format(mean_absolute_error(y_test, randos)))"
   ]
  },
  {
   "cell_type": "code",
   "execution_count": 18,
   "id": "52373cd2-5f54-4ec7-9b37-0ad52b870dfc",
   "metadata": {},
   "outputs": [
    {
     "data": {
      "text/html": [
       "<div>\n",
       "<style scoped>\n",
       "    .dataframe tbody tr th:only-of-type {\n",
       "        vertical-align: middle;\n",
       "    }\n",
       "\n",
       "    .dataframe tbody tr th {\n",
       "        vertical-align: top;\n",
       "    }\n",
       "\n",
       "    .dataframe thead th {\n",
       "        text-align: right;\n",
       "    }\n",
       "</style>\n",
       "<table border=\"1\" class=\"dataframe\">\n",
       "  <thead>\n",
       "    <tr style=\"text-align: right;\">\n",
       "      <th></th>\n",
       "      <th>language</th>\n",
       "      <th>age</th>\n",
       "      <th>firebase</th>\n",
       "    </tr>\n",
       "  </thead>\n",
       "  <tbody>\n",
       "    <tr>\n",
       "      <th>0</th>\n",
       "      <td>0.374049</td>\n",
       "      <td>0.013664</td>\n",
       "      <td>0.612287</td>\n",
       "    </tr>\n",
       "  </tbody>\n",
       "</table>\n",
       "</div>"
      ],
      "text/plain": [
       "   language       age  firebase\n",
       "0  0.374049  0.013664  0.612287"
      ]
     },
     "execution_count": 18,
     "metadata": {},
     "output_type": "execute_result"
    }
   ],
   "source": [
    "pd.DataFrame(data=[model.feature_importances_], columns=x.columns)"
   ]
  },
  {
   "cell_type": "code",
   "execution_count": 20,
   "id": "cc0e0a1c-1a08-44f0-959c-6ed172445710",
   "metadata": {},
   "outputs": [
    {
     "data": {
      "text/plain": [
       "['model.joblib']"
      ]
     },
     "execution_count": 20,
     "metadata": {},
     "output_type": "execute_result"
    }
   ],
   "source": [
    "import joblib\n",
    "joblib.dump(model, 'model.joblib')"
   ]
  },
  {
   "cell_type": "code",
   "execution_count": 21,
   "id": "7e961dee-e7f0-48aa-8f33-294bedd5683f",
   "metadata": {},
   "outputs": [],
   "source": [
    "from firebase_admin import storage\n",
    "bucket = storage.bucket(name='gs://sidequest-fd22f.appspot.com')"
   ]
  },
  {
   "cell_type": "code",
   "execution_count": 22,
   "id": "82862246-bb2b-4a93-9b4c-fd5f2f4659c5",
   "metadata": {},
   "outputs": [],
   "source": [
    "bucket = storage.bucket(name='sidequest-fd22f.appspot.com')"
   ]
  },
  {
   "cell_type": "code",
   "execution_count": 23,
   "id": "09d5aa4c-3475-4940-a2fa-fa394092fa6f",
   "metadata": {},
   "outputs": [
    {
     "name": "stdout",
     "output_type": "stream",
     "text": [
      "model_uploaded\n"
     ]
    }
   ],
   "source": [
    "b = bucket.blob('gs://sidequest-fd22f.appspot.com/model.joblib')\n",
    "b.upload_from_filename('model.joblib')\n",
    "print('model_uploaded')"
   ]
  },
  {
   "cell_type": "code",
   "execution_count": 24,
   "id": "44c60b92-0f35-490a-971c-ce4b977de01f",
   "metadata": {},
   "outputs": [
    {
     "name": "stdout",
     "output_type": "stream",
     "text": [
      "3.10.13 (main, Feb  6 2024, 19:53:26) [GCC 9.4.0]\n"
     ]
    }
   ],
   "source": [
    "import sys\n",
    "print(sys.version)"
   ]
  },
  {
   "cell_type": "code",
   "execution_count": null,
   "id": "a7152d92-3285-4584-a288-db7d05b4dacc",
   "metadata": {},
   "outputs": [],
   "source": []
  },
  {
   "cell_type": "code",
   "execution_count": null,
   "id": "33d87bd2-1bef-478e-ab44-e121210b4088",
   "metadata": {},
   "outputs": [],
   "source": []
  }
 ],
 "metadata": {
  "kernelspec": {
   "display_name": "Python 3 (ipykernel)",
   "language": "python",
   "name": "python3"
  },
  "language_info": {
   "codemirror_mode": {
    "name": "ipython",
    "version": 3
   },
   "file_extension": ".py",
   "mimetype": "text/x-python",
   "name": "python",
   "nbconvert_exporter": "python",
   "pygments_lexer": "ipython3",
   "version": "3.10.13"
  }
 },
 "nbformat": 4,
 "nbformat_minor": 5
}
